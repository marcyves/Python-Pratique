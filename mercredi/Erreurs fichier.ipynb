{
 "cells": [
  {
   "cell_type": "code",
   "execution_count": 6,
   "metadata": {
    "collapsed": false
   },
   "outputs": [
    {
     "name": "stdout",
     "output_type": "stream",
     "text": [
      "Le fichier fichier.txt n'existe pas\n"
     ]
    }
   ],
   "source": [
    "try:\n",
    "#    a =3/0\n",
    "    with open('fichier.txt', 'r') as fichier:\n",
    "        for ligne in fichier:\n",
    "            print(ligne, end='')\n",
    "except FileNotFoundError as e:\n",
    "    print(\"Le fichier {} n'existe pas\".format(e.filename))\n",
    "    exit(1)\n",
    "except PermissionError as e:\n",
    "    print(\"Droits de lecture sur fichier {} absents.\".format(e.filename))\n",
    "    exit(2)\n",
    "except Exception as e:\n",
    "    print(\"Erreur : {}\".format(e))\n",
    "    exit(3)\n"
   ]
  },
  {
   "cell_type": "code",
   "execution_count": null,
   "metadata": {
    "collapsed": true
   },
   "outputs": [],
   "source": []
  }
 ],
 "metadata": {
  "kernelspec": {
   "display_name": "Python 3",
   "language": "python",
   "name": "python3"
  },
  "language_info": {
   "codemirror_mode": {
    "name": "ipython",
    "version": 3
   },
   "file_extension": ".py",
   "mimetype": "text/x-python",
   "name": "python",
   "nbconvert_exporter": "python",
   "pygments_lexer": "ipython3",
   "version": "3.6.0"
  }
 },
 "nbformat": 4,
 "nbformat_minor": 2
}
